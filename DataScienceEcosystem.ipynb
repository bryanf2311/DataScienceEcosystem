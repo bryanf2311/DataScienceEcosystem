{
 "cells": [
  {
   "cell_type": "markdown",
   "id": "40fe4e82-6968-4e52-8038-5019f3db6274",
   "metadata": {},
   "source": [
    "# Data Science Tools and Ecosystem"
   ]
  },
  {
   "cell_type": "markdown",
   "id": "e8047dc8-c4ef-430d-9fc9-7d0c003ee6ba",
   "metadata": {},
   "source": [
    "In this notebook, Data Science Tools and Ecosystem are summarized."
   ]
  },
  {
   "cell_type": "markdown",
   "id": "e4166394-82f4-4de6-bc4f-bc42f8dedc1f",
   "metadata": {},
   "source": [
    "Some of the popular languages that Data Scientists use are:\n",
    "1) Python\n",
    "2) R\n",
    "3) Julia"
   ]
  },
  {
   "cell_type": "markdown",
   "id": "ce3badcf-fcad-48b2-844b-4480912ecc52",
   "metadata": {},
   "source": [
    "Some of the commonly used libraries used by Data Scientists include:\n",
    "1) NumPy\n",
    "2) Pandas\n",
    "3) SciPy"
   ]
  },
  {
   "cell_type": "markdown",
   "id": "f4342782-45c5-433b-a572-135d3babd89c",
   "metadata": {},
   "source": [
    "| Data Science Tools|\n",
    "|-----------|\n",
    "|Git|\n",
    "|Docker|\n",
    "|Gitlab|"
   ]
  },
  {
   "cell_type": "markdown",
   "id": "a3a0f4f6-48f2-483b-b6ed-cee32477f64c",
   "metadata": {},
   "source": [
    "### Below are a few examples of evaluating arithmetic expressions in Python"
   ]
  },
  {
   "cell_type": "code",
   "execution_count": 1,
   "id": "a82bee84-1f32-4bed-9995-542c4caf1e56",
   "metadata": {},
   "outputs": [
    {
     "data": {
      "text/plain": [
       "17"
      ]
     },
     "execution_count": 1,
     "metadata": {},
     "output_type": "execute_result"
    }
   ],
   "source": [
    "(3*4)+5\n",
    "#This a simple arithmetic expression to mutiply then add integers"
   ]
  },
  {
   "cell_type": "code",
   "execution_count": 3,
   "id": "0aaaa904-e63e-4d8a-90c7-e16599d03249",
   "metadata": {},
   "outputs": [
    {
     "name": "stdout",
     "output_type": "stream",
     "text": [
      "3.3333333333333335\n"
     ]
    }
   ],
   "source": [
    "#This will convert 200 minutes to hours by diving by 60\n",
    "def convert_minutestohours(minutes):\n",
    "    return minutes/60\n",
    "print(convert_minutestohours(200))"
   ]
  },
  {
   "cell_type": "markdown",
   "id": "711d8a96-bbb1-4ff8-84d9-6c97baffaa60",
   "metadata": {},
   "source": [
    "__Objectives:__\n",
    "+ Markdown in Jupyter notebook\n",
    "+ Most popular Data Science Languages\n",
    "+ Most popular Data Science Libraries"
   ]
  },
  {
   "cell_type": "markdown",
   "id": "9b5df955-747b-48aa-a94f-3c20e6680b37",
   "metadata": {},
   "source": [
    "## Author\n",
    "Bryan Flores"
   ]
  }
 ],
 "metadata": {
  "kernelspec": {
   "display_name": "Python 3 (ipykernel)",
   "language": "python",
   "name": "python3"
  },
  "language_info": {
   "codemirror_mode": {
    "name": "ipython",
    "version": 3
   },
   "file_extension": ".py",
   "mimetype": "text/x-python",
   "name": "python",
   "nbconvert_exporter": "python",
   "pygments_lexer": "ipython3",
   "version": "3.12.4"
  }
 },
 "nbformat": 4,
 "nbformat_minor": 5
}
